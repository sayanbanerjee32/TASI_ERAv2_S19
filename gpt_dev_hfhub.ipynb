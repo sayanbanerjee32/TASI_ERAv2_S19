{
  "nbformat": 4,
  "nbformat_minor": 0,
  "metadata": {
    "colab": {
      "provenance": [],
      "authorship_tag": "ABX9TyNFLcIBVOsgkQf8Z2r0nvcQ",
      "include_colab_link": true
    },
    "kernelspec": {
      "name": "python3",
      "display_name": "Python 3"
    },
    "language_info": {
      "name": "python"
    }
  },
  "cells": [
    {
      "cell_type": "markdown",
      "metadata": {
        "id": "view-in-github",
        "colab_type": "text"
      },
      "source": [
        "<a href=\"https://colab.research.google.com/github/sayanbanerjee32/TASI_ERAv2_S19/blob/main/gpt_dev_hfhub.ipynb\" target=\"_parent\"><img src=\"https://colab.research.google.com/assets/colab-badge.svg\" alt=\"Open In Colab\"/></a>"
      ]
    },
    {
      "cell_type": "code",
      "source": [
        "# assignment repo\n",
        "!git clone https://github.com/sayanbanerjee32/TASI_ERAv2_S19.git"
      ],
      "metadata": {
        "colab": {
          "base_uri": "https://localhost:8080/"
        },
        "id": "C9mtbFB0Rbpl",
        "outputId": "2e31c47b-cecf-4e7f-b7de-2a0e29c9d4ae"
      },
      "execution_count": 1,
      "outputs": [
        {
          "output_type": "stream",
          "name": "stdout",
          "text": [
            "Cloning into 'TASI_ERAv2_S19'...\n",
            "remote: Enumerating objects: 12, done.\u001b[K\n",
            "remote: Counting objects: 100% (12/12), done.\u001b[K\n",
            "remote: Compressing objects: 100% (10/10), done.\u001b[K\n",
            "remote: Total 12 (delta 1), reused 0 (delta 0), pack-reused 0\u001b[K\n",
            "Receiving objects: 100% (12/12), 20.99 KiB | 2.62 MiB/s, done.\n",
            "Resolving deltas: 100% (1/1), done.\n"
          ]
        }
      ]
    },
    {
      "cell_type": "code",
      "source": [
        "## move python files to outside\n",
        "!mv TASI_ERAv2_S19/*.py ."
      ],
      "metadata": {
        "id": "WaKX4Nh_RdZd"
      },
      "execution_count": 2,
      "outputs": []
    },
    {
      "cell_type": "code",
      "execution_count": 3,
      "metadata": {
        "colab": {
          "base_uri": "https://localhost:8080/"
        },
        "id": "BUXWu-BWvmQ3",
        "outputId": "9343df11-91c0-4502-ef71-6b50ec081b43"
      },
      "outputs": [
        {
          "output_type": "stream",
          "name": "stdout",
          "text": [
            "step 0: train loss 4.3757, val loss 4.3817\n",
            "step 5: train loss 4.3183, val loss 4.3155\n",
            "saving checkpoint to ./saved_model/\n",
            "\n",
            "kYDOzhDzWuKuRQrk$neljDSVgI-DeqfPi$p:;G?L'joYCypJx;Jw:UsoikMqdhoiY;TdbshM,elkbvJd\n",
            "jiR$boAKiogqa?HTlMLHsNJRgPkqfc.mCbo$p.u.LWJQksMWLivb?q&x&oC.fU-$wuk \n",
            "dfTNOe s3r\n",
            "eoiufVGXEiZTbmz;ZHfnI-DWGTiAbgHh'o?Am,$NiD3e'sjrRUIcoZkez $ol3-bvyjmqHkQS\n",
            "bfXkQXoiPD!'?$MJIb-BJ$ON-mShO?;k3aQA.sWLSgj:OoiR!vcQX.?LBz?vXPnRNuwXqlaAacXr?XQT'\n",
            "?TjfDMo,yoan;RH?eq,zzTHvP.QnTi:QNzfOCcOAQ3$MMMMNf:bil?PbTqzgW ,VUrFpSmrzS&?3njboh$j3gQCBzn!O\n",
            "lIxcPTlEfJ!pAQgObFbdr iK s?bMwZnu.LQU!xZ,V$AB:MMmdVE3dUzpFpJedGHy,ZSGJ$GK'kdyw.ksJOGf..Esf\n"
          ]
        }
      ],
      "source": [
        "import train"
      ]
    },
    {
      "cell_type": "code",
      "source": [
        "import os\n",
        "os.makedirs('to_upload', exist_ok=True)"
      ],
      "metadata": {
        "id": "AXKYBrDeKgUL"
      },
      "execution_count": 4,
      "outputs": []
    },
    {
      "cell_type": "code",
      "source": [
        "!cp model.py to_upload\n",
        "!cp -r saved_model to_upload\n",
        "!cp -r data to_upload"
      ],
      "metadata": {
        "id": "aBh2PkYFO7wv"
      },
      "execution_count": 5,
      "outputs": []
    },
    {
      "cell_type": "code",
      "source": [
        "from huggingface_hub import HfApi\n",
        "from google.colab import userdata\n",
        "userdata.get('HF_TOKEN')\n",
        "api = HfApi()"
      ],
      "metadata": {
        "id": "fwlmrdkIPC5U"
      },
      "execution_count": 1,
      "outputs": []
    },
    {
      "cell_type": "code",
      "source": [
        "api.upload_folder(\n",
        "    folder_path=\"./to_upload\",\n",
        "    repo_id=\"sayanbanerjee32/nanogpt_test\",\n",
        "    repo_type=\"model\",\n",
        ")"
      ],
      "metadata": {
        "colab": {
          "base_uri": "https://localhost:8080/",
          "height": 109
        },
        "id": "9nlG2eoYPJqN",
        "outputId": "d46da617-1dd5-4499-9fa6-58f4fd796c8d"
      },
      "execution_count": 3,
      "outputs": [
        {
          "output_type": "execute_result",
          "data": {
            "text/plain": [
              "CommitInfo(commit_url='https://huggingface.co/sayanbanerjee32/nanogpt_test/commit/cad1bbb70a49d58fd6d47d4cd070e80d79f3ba11', commit_message='Upload folder using huggingface_hub', commit_description='', oid='cad1bbb70a49d58fd6d47d4cd070e80d79f3ba11', pr_url=None, pr_revision=None, pr_num=None)"
            ],
            "application/vnd.google.colaboratory.intrinsic+json": {
              "type": "string"
            }
          },
          "metadata": {},
          "execution_count": 3
        }
      ]
    },
    {
      "cell_type": "code",
      "source": [],
      "metadata": {
        "id": "lYqWe7cXPS2u"
      },
      "execution_count": null,
      "outputs": []
    }
  ]
}