{
  "nbformat": 4,
  "nbformat_minor": 0,
  "metadata": {
    "colab": {
      "provenance": [],
      "gpuType": "T4",
      "authorship_tag": "ABX9TyNFLcIBVOsgkQf8Z2r0nvcQ",
      "include_colab_link": true
    },
    "kernelspec": {
      "name": "python3",
      "display_name": "Python 3"
    },
    "language_info": {
      "name": "python"
    },
    "accelerator": "GPU"
  },
  "cells": [
    {
      "cell_type": "markdown",
      "metadata": {
        "id": "view-in-github",
        "colab_type": "text"
      },
      "source": [
        "<a href=\"https://colab.research.google.com/github/sayanbanerjee32/TASI_ERAv2_S19/blob/main/gpt_dev_hfhub.ipynb\" target=\"_parent\"><img src=\"https://colab.research.google.com/assets/colab-badge.svg\" alt=\"Open In Colab\"/></a>"
      ]
    },
    {
      "cell_type": "code",
      "source": [
        "# assignment repo\n",
        "!git clone https://github.com/sayanbanerjee32/TASI_ERAv2_S19.git"
      ],
      "metadata": {
        "colab": {
          "base_uri": "https://localhost:8080/"
        },
        "id": "C9mtbFB0Rbpl",
        "outputId": "6b394f4a-21d9-47fb-c544-3bd25df55ec5"
      },
      "execution_count": 1,
      "outputs": [
        {
          "output_type": "stream",
          "name": "stdout",
          "text": [
            "Cloning into 'TASI_ERAv2_S19'...\n",
            "remote: Enumerating objects: 33, done.\u001b[K\n",
            "remote: Counting objects: 100% (33/33), done.\u001b[K\n",
            "remote: Compressing objects: 100% (29/29), done.\u001b[K\n",
            "remote: Total 33 (delta 13), reused 0 (delta 0), pack-reused 0\u001b[K\n",
            "Receiving objects: 100% (33/33), 28.51 KiB | 4.07 MiB/s, done.\n",
            "Resolving deltas: 100% (13/13), done.\n"
          ]
        }
      ]
    },
    {
      "cell_type": "code",
      "source": [
        "## move python files to outside\n",
        "!mv TASI_ERAv2_S19/*.py ."
      ],
      "metadata": {
        "id": "WaKX4Nh_RdZd"
      },
      "execution_count": 2,
      "outputs": []
    },
    {
      "cell_type": "code",
      "execution_count": 3,
      "metadata": {
        "colab": {
          "base_uri": "https://localhost:8080/"
        },
        "id": "BUXWu-BWvmQ3",
        "outputId": "dbf65283-24ba-4733-fb23-4888cc0cd8bf"
      },
      "outputs": [
        {
          "output_type": "stream",
          "name": "stdout",
          "text": [
            "step 0: train loss 4.2849, val loss 4.2823\n",
            "step 500: train loss 2.0112, val loss 2.0971\n",
            "saving checkpoint to ./saved_model/\n",
            "step 1000: train loss 1.6021, val loss 1.7830\n",
            "saving checkpoint to ./saved_model/\n",
            "step 1500: train loss 1.4412, val loss 1.6396\n",
            "saving checkpoint to ./saved_model/\n",
            "step 2000: train loss 1.3430, val loss 1.5724\n",
            "saving checkpoint to ./saved_model/\n",
            "step 2500: train loss 1.2809, val loss 1.5330\n",
            "saving checkpoint to ./saved_model/\n",
            "step 3000: train loss 1.2268, val loss 1.5094\n",
            "saving checkpoint to ./saved_model/\n",
            "step 3500: train loss 1.1824, val loss 1.4881\n",
            "saving checkpoint to ./saved_model/\n",
            "step 4000: train loss 1.1475, val loss 1.4869\n",
            "saving checkpoint to ./saved_model/\n",
            "step 4500: train loss 1.1108, val loss 1.4805\n",
            "saving checkpoint to ./saved_model/\n",
            "step 4999: train loss 1.0779, val loss 1.4920\n",
            "\n",
            "But with prison: I will stead with you.\n",
            "\n",
            "ISABELLA:\n",
            "Carress, all do; and I'll say your honour self good:\n",
            "Then I'll regn your highness and\n",
            "Compell'd by my sweet gates that you may:\n",
            "Valiant make how I heard of you.\n",
            "\n",
            "ANGELO:\n",
            "Nay, sir, Isay!\n",
            "\n",
            "ISABELLA:\n",
            "I am sweet men sister as you steed.\n",
            "\n",
            "LUCIO:\n",
            "As it if you in the case would princily,\n",
            "I'll rote, sir, I did cannot now at me?\n",
            "That look thence, thy children shall be you called.\n",
            "\n",
            "DUKE VINCENTIO:\n",
            "Marry, though I do read you!\n",
            "\n",
            "LUCIO:\n",
            "O that mufflest than \n"
          ]
        }
      ],
      "source": [
        "import train"
      ]
    },
    {
      "cell_type": "code",
      "source": [
        "import os\n",
        "os.makedirs('to_upload', exist_ok=True)"
      ],
      "metadata": {
        "id": "AXKYBrDeKgUL"
      },
      "execution_count": 4,
      "outputs": []
    },
    {
      "cell_type": "code",
      "source": [
        "!cp model.py to_upload\n",
        "!cp -r saved_model to_upload\n",
        "!cp -r data to_upload"
      ],
      "metadata": {
        "id": "aBh2PkYFO7wv"
      },
      "execution_count": 5,
      "outputs": []
    },
    {
      "cell_type": "code",
      "source": [
        "from huggingface_hub import HfApi\n",
        "from google.colab import userdata\n",
        "userdata.get('HF_TOKEN')\n",
        "api = HfApi()"
      ],
      "metadata": {
        "id": "fwlmrdkIPC5U"
      },
      "execution_count": 7,
      "outputs": []
    },
    {
      "cell_type": "code",
      "source": [
        "api.upload_folder(\n",
        "    folder_path=\"./to_upload\",\n",
        "    repo_id=\"sayanbanerjee32/nanogpt_test\",\n",
        "    repo_type=\"model\",\n",
        ")"
      ],
      "metadata": {
        "colab": {
          "base_uri": "https://localhost:8080/",
          "height": 106
        },
        "id": "9nlG2eoYPJqN",
        "outputId": "e8773ec9-8e0a-412a-fcb5-f983d9c1e93e"
      },
      "execution_count": 8,
      "outputs": [
        {
          "output_type": "execute_result",
          "data": {
            "text/plain": [
              "CommitInfo(commit_url='https://huggingface.co/sayanbanerjee32/nanogpt_test/commit/481d4dedae446620ebea9ca4a5055957da976760', commit_message='Upload folder using huggingface_hub', commit_description='', oid='481d4dedae446620ebea9ca4a5055957da976760', pr_url=None, pr_revision=None, pr_num=None)"
            ],
            "application/vnd.google.colaboratory.intrinsic+json": {
              "type": "string"
            }
          },
          "metadata": {},
          "execution_count": 8
        }
      ]
    },
    {
      "cell_type": "code",
      "source": [],
      "metadata": {
        "id": "lYqWe7cXPS2u"
      },
      "execution_count": null,
      "outputs": []
    }
  ]
}